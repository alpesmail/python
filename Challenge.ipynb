{
 "cells": [
  {
   "cell_type": "code",
   "execution_count": 1,
   "metadata": {
    "collapsed": false
   },
   "outputs": [],
   "source": [
    "from pyspark import SparkContext, SparkConf\n",
    "\n",
    "\n",
    "local=\"My App\"\n",
    "master=\"Spark\"\n",
    "\n",
    "#conf = SparkConf().setAppName(local).setMaster(master)\n",
    "conf = SparkConf().setAppName(local)\n",
    "sc = SparkContext(conf=conf)\n"
   ]
  },
  {
   "cell_type": "code",
   "execution_count": 2,
   "metadata": {
    "collapsed": true
   },
   "outputs": [],
   "source": [
    "def get_parameter(myrdd, chain):\n",
    "    \"\"\" Parse a line in the ratings dataset\n",
    "    Args:\n",
    "        entry (str): a line in the ratings dataset in the form of Competence:Description\n",
    "    Returns:\n",
    "        Description\n",
    "    \"\"\"\n",
    "    entry=myrdd.filter(lambda s: chain in s).collect()\n",
    "    items = entry[0].split(\":\")\n",
    "    return items[1]\n"
   ]
  },
  {
   "cell_type": "code",
   "execution_count": 3,
   "metadata": {
    "collapsed": false
   },
   "outputs": [
    {
     "name": "stdout",
     "output_type": "stream",
     "text": [
      "Loading  TDCatalogue.csv TDCatalogue.csv\n",
      "Output  Output.csv\n",
      "stopwords  StopWords.txt\n",
      "data/comp/TDCatalogue.csv\n",
      "First file:  17\n",
      "['01: Systems Engineering Support::Disciplines related to the interdisciplinary approach governing the total technical and managerial effort required to transform a set of customer needs, expectations, and constraints into a solution and to support that solution throughout its life. Also includes system-/ platform-level testing, configuration management', '011: Operational Analysis::Activities which enable to capture, anticipate and define customer needs, to develop respective scenarios and derive operational concepts with systems demands in response to these needs. This covers analysis of the operational scenario in a system of system context including requirements and functional analysis based on Concept of Operations (ConOps) and Concepts of Use (ConUse)']\n",
      "Second file:  17\n",
      "['01: Systems Engineering Support::Disciplines related to the interdisciplinary approach governing the total technical and managerial effort required to transform a set of customer needs, expectations, and constraints into a solution and to support that solution throughout its life. Also includes system-/ platform-level testing, configuration management', '011: Operational Analysis::Activities which enable to capture, anticipate and define customer needs, to develop respective scenarios and derive operational concepts with systems demands in response to these needs. This covers analysis of the operational scenario in a system of system context including requirements and functional analysis based on Concept of Operations (ConOps) and Concepts of Use (ConUse)']\n"
     ]
    }
   ],
   "source": [
    "#load the Competence descriptions then the TD descriptions\n",
    "\n",
    "import sys\n",
    "import os\n",
    "\n",
    "baseDir = os.path.join('data')\n",
    "\n",
    "inputOrderPath = os.path.join('comp', 'Order.txt')\n",
    "OrderFileName = os.path.join(baseDir, inputOrderPath)\n",
    "numPartitions = 1\n",
    "rawOrderDescriptions = sc.textFile(OrderFileName).repartition(numPartitions)\n",
    "\n",
    "firstFileName = get_parameter(rawOrderDescriptions,'firstFile')\n",
    "secondFileName = get_parameter(rawOrderDescriptions, 'secondFile')\n",
    "outputFileName  = get_parameter(rawOrderDescriptions, 'outputFile')\n",
    "stopFileName  = get_parameter(rawOrderDescriptions, 'stopwordFile')\n",
    "\n",
    "print (\"Loading \", firstFileName, secondFileName)\n",
    "print (\"Output \", outputFileName)\n",
    "print (\"stopwords \", stopFileName)\n",
    "\n",
    "numPartitions = 2\n",
    "inputPath = os.path.join('comp', firstFileName)\n",
    "competenceFilename = os.path.join(baseDir, inputPath)\n",
    "print(competenceFilename)\n",
    "rawDescriptions = sc.textFile(competenceFilename).repartition(numPartitions)\n",
    "\n",
    "print (\"First file: \", rawDescriptions.count())\n",
    "print (rawDescriptions.take(2))\n",
    "\n",
    "inputTDPath = os.path.join('comp', secondFileName)\n",
    "TDFilename = os.path.join(baseDir, inputTDPath)\n",
    "\n",
    "rawTDDescriptions = sc.textFile(TDFilename).repartition(numPartitions)\n",
    "\n",
    "print (\"Second file: \", rawTDDescriptions.count())\n",
    "print (rawTDDescriptions.take(2))\n"
   ]
  },
  {
   "cell_type": "code",
   "execution_count": 4,
   "metadata": {
    "collapsed": false
   },
   "outputs": [
    {
     "name": "stdout",
     "output_type": "stream",
     "text": [
      "hi you\n"
     ]
    }
   ],
   "source": [
    "import re\n",
    "\n",
    "def removePunctuation(text):\n",
    "    \"\"\"Removes punctuation, changes to lower case, and strips leading and trailing spaces.\n",
    "\n",
    "    Note:\n",
    "        Only spaces, letters, and numbers should be retained.  Other characters should should be\n",
    "        eliminated (e.g. it's becomes its).  Leading and trailing spaces should be removed after\n",
    "        punctuation is removed.\n",
    "\n",
    "    Args:\n",
    "        text (str): A string.\n",
    "\n",
    "    Returns:\n",
    "        str: The cleaned up string.\n",
    "    \"\"\"\n",
    "    text2=text.lower()\n",
    "    text3=re.sub(r'[^a-zA-Z0-9 ]', '',text2)\n",
    "    return(text3.strip())\n",
    "\n",
    "print (removePunctuation(\"Hi, 'you!\"))"
   ]
  },
  {
   "cell_type": "code",
   "execution_count": 5,
   "metadata": {
    "collapsed": false
   },
   "outputs": [
    {
     "name": "stdout",
     "output_type": "stream",
     "text": [
      "('Hi', 'you!')\n"
     ]
    }
   ],
   "source": [
    "def get_entries_tuple(entry):\n",
    "    \"\"\" Parse a line in the ratings dataset\n",
    "    Args:\n",
    "        entry (str): a line in the ratings dataset in the form of Competence::Description\n",
    "    Returns:\n",
    "        tuple: (Competence, Description)\n",
    "    \"\"\"\n",
    "    items = entry.split(\"::\")\n",
    "    return items[0], items[1]\n",
    "\n",
    "print (get_entries_tuple(\"Hi::you!\"))"
   ]
  },
  {
   "cell_type": "code",
   "execution_count": 10,
   "metadata": {
    "collapsed": false
   },
   "outputs": [
    {
     "name": "stdout",
     "output_type": "stream",
     "text": [
      "7\n",
      "('01: Systems Engineering Support', 'Disciplines related to the interdisciplinary approach governing the total technical and managerial effort required to transform a set of customer needs, expectations, and constraints into a solution and to support that solution throughout its life. Also includes system-/ platform-level testing, configuration management')\n"
     ]
    },
    {
     "data": {
      "text/plain": [
       "('01: Systems Engineering Support',\n",
       " 'disciplines related to the interdisciplinary approach governing the total technical and managerial effort required to transform a set of customer needs expectations and constraints into a solution and to support that solution throughout its life also includes system platformlevel testing configuration management')"
      ]
     },
     "execution_count": 10,
     "metadata": {},
     "output_type": "execute_result"
    }
   ],
   "source": [
    "sum = lambda x, y : x + y\n",
    "print(sum(3,4))\n",
    "\n",
    "\n",
    "TestText='01: Systems Engineering Support::Disciplines related to the interdisciplinary approach governing the total technical and managerial effort required to transform a set of customer needs, expectations, and constraints into a solution and to support that solution throughout its life. Also includes system-/ platform-level testing, configuration management'\n",
    "\n",
    "print(get_entries_tuple(TestText))\n",
    "removeP = lambda s: (s[0], removePunctuation(s[1]))\n",
    "removeP(get_entries_tuple(TestText))"
   ]
  },
  {
   "cell_type": "code",
   "execution_count": 16,
   "metadata": {
    "collapsed": false
   },
   "outputs": [
    {
     "name": "stdout",
     "output_type": "stream",
     "text": [
      "There are 17 descriptions in the first datasets\n",
      "Descriptions: [('01: Systems Engineering Support', ['disciplines', 'related', 'to', 'the', 'interdisciplinary', 'approach', 'governing', 'the', 'total', 'technical', 'and', 'managerial', 'effort', 'required', 'to', 'transform', 'a', 'set', 'of', 'customer', 'needs', 'expectations', 'and', 'constraints', 'into', 'a', 'solution', 'and', 'to', 'support', 'that', 'solution', 'throughout', 'its', 'life', 'also', 'includes', 'system', 'platformlevel', 'testing', 'configuration', 'management']), ('011: Operational Analysis', ['activities', 'which', 'enable', 'to', 'capture', 'anticipate', 'and', 'define', 'customer', 'needs', 'to', 'develop', 'respective', 'scenarios', 'and', 'derive', 'operational', 'concepts', 'with', 'systems', 'demands', 'in', 'response', 'to', 'these', 'needs', 'this', 'covers', 'analysis', 'of', 'the', 'operational', 'scenario', 'in', 'a', 'system', 'of', 'system', 'context', 'including', 'requirements', 'and', 'functional', 'analysis', 'based', 'on', 'concept', 'of', 'operations', 'conops', 'and', 'concepts', 'of', 'use', 'conuse'])]\n",
      "There are 17 TD in the second datasets\n",
      "TD: [('01: Systems Engineering Support', ['disciplines', 'related', 'to', 'the', 'interdisciplinary', 'approach', 'governing', 'the', 'total', 'technical', 'and', 'managerial', 'effort', 'required', 'to', 'transform', 'a', 'set', 'of', 'customer', 'needs', 'expectations', 'and', 'constraints', 'into', 'a', 'solution', 'and', 'to', 'support', 'that', 'solution', 'throughout', 'its', 'life', 'also', 'includes', 'system', 'platformlevel', 'testing', 'configuration', 'management']), ('011: Operational Analysis', ['activities', 'which', 'enable', 'to', 'capture', 'anticipate', 'and', 'define', 'customer', 'needs', 'to', 'develop', 'respective', 'scenarios', 'and', 'derive', 'operational', 'concepts', 'with', 'systems', 'demands', 'in', 'response', 'to', 'these', 'needs', 'this', 'covers', 'analysis', 'of', 'the', 'operational', 'scenario', 'in', 'a', 'system', 'of', 'system', 'context', 'including', 'requirements', 'and', 'functional', 'analysis', 'based', 'on', 'concept', 'of', 'operations', 'conops', 'and', 'concepts', 'of', 'use', 'conuse'])]\n"
     ]
    }
   ],
   "source": [
    "#This is the parse of the competences and TDs \n",
    "\n",
    "descriptionsNoSplitRDD = (rawDescriptions\n",
    "                          .filter(lambda s: \"::\" in s)\n",
    "                          .map(get_entries_tuple)\n",
    "                          .map(lambda s: (s[0], removePunctuation(s[1]))))\n",
    "\n",
    "descriptionsRDD = (descriptionsNoSplitRDD\n",
    "                   .map(lambda s: (s[0], s[1].split()))\n",
    "                   .cache())\n",
    "print('There are %s descriptions in the first datasets' % (descriptionsRDD.count()))\n",
    "print('Descriptions: %s' % descriptionsRDD.take(2))\n",
    "\n",
    "TDNoSplitRDD = (rawTDDescriptions\n",
    "                   .filter(lambda s: \"::\" in s)\n",
    "                   .map(get_entries_tuple)\n",
    "                   .map(lambda s: (s[0], removePunctuation(s[1]))))\n",
    "\n",
    "TDRDD= (TDNoSplitRDD\n",
    "            .map(lambda s: (s[0], s[1].split()))\n",
    "            .cache())\n",
    "\n",
    "print('There are %s TD in the second datasets' % (TDRDD.count()))\n",
    "print('TD: %s' % TDRDD.take(2))\n"
   ]
  },
  {
   "cell_type": "code",
   "execution_count": 17,
   "metadata": {
    "collapsed": false
   },
   "outputs": [
    {
     "ename": "SyntaxError",
     "evalue": "Missing parentheses in call to 'print' (<ipython-input-17-5571a423f745>, line 12)",
     "output_type": "error",
     "traceback": [
      "\u001b[0;36m  File \u001b[0;32m\"<ipython-input-17-5571a423f745>\"\u001b[0;36m, line \u001b[0;32m12\u001b[0m\n\u001b[0;31m    print 'These are the stopwords: %s' % stopwords\u001b[0m\n\u001b[0m                                      ^\u001b[0m\n\u001b[0;31mSyntaxError\u001b[0m\u001b[0;31m:\u001b[0m Missing parentheses in call to 'print'\n"
     ]
    }
   ],
   "source": [
    "import re\n",
    "\n",
    "# remove unwanted words\n",
    "\n",
    "baseDir = os.path.join('data')\n",
    "inputPath = os.path.join('cs100', 'lab3')\n",
    "\n",
    "STOPWORDS_PATH = 'stopwords.txt'\n",
    "\n",
    "stopfile = os.path.join(baseDir, inputPath, STOPWORDS_PATH)\n",
    "stopwords = set(sc.textFile(stopfile).collect())\n",
    "print 'These are the stopwords: %s' % stopwords\n",
    "\n",
    "#in case it is useful\n",
    "quickbrownfox = 'A quick brown fox jumps over the lazy dog.'\n",
    "split_regex = r'\\W+'\n",
    "\n",
    "def tokenize(string):\n",
    "    \"\"\" An implementation of input string tokenization that excludes stopwords\n",
    "    Args:\n",
    "        string (str): input string\n",
    "    Returns:\n",
    "        list: a list of tokens without stopwords\n",
    "    \"\"\"\n",
    "    string2=string.lower()\n",
    "    mylist = re.split(split_regex, string2)\n",
    "    \n",
    "    for aword in stopwords :\n",
    "        while mylist.__contains__(aword)>0: \n",
    "            mylist.remove(aword)\n",
    "\n",
    "    while mylist.__contains__('')>0: mylist.remove('')\n",
    "\n",
    "    return mylist\n",
    "\n",
    "print \"Tokenize:\" , tokenize(quickbrownfox) # Should give ['quick', 'brown', ... ]\n",
    "\n",
    "def removeStopWords (myList):\n",
    "    aList=[]\n",
    "    \n",
    "    for myWord in myList :\n",
    "        if myWord not in stopwords:\n",
    "            aList.append(myWord)\n",
    "    return aList\n",
    "\n",
    "print \"Remove words: \", (removeStopWords([u'description', u'the', u'just']))\n",
    "\n",
    "def tf(tokens):\n",
    "    \"\"\" Compute TF\n",
    "    Args:\n",
    "        tokens (list of str): input list of tokens from tokenize\n",
    "    Returns:\n",
    "        dictionary: a dictionary of tokens to its TF values\n",
    "    \"\"\"\n",
    "    dictionary={}\n",
    "    k=len(tokens)\n",
    "    for i in tokens: \n",
    "        if i in dictionary: \n",
    "            dictionary[i]+= 1.0\n",
    "        else: dictionary[i]=1.0\n",
    "    \n",
    "    dictionary\n",
    "    for j in dictionary:\n",
    "        dictionary[j]/= k\n",
    "    return dictionary\n",
    "\n",
    "print \"TF: \", tf(tokenize(quickbrownfox))\n",
    "\n"
   ]
  },
  {
   "cell_type": "code",
   "execution_count": 6,
   "metadata": {
    "collapsed": false
   },
   "outputs": [
    {
     "name": "stdout",
     "output_type": "stream",
     "text": [
      "There are 104 descriptions in the first datasets\n",
      "Biggest record has 46 tokens\n",
      "\n",
      "There are 104 descriptions in the second datasets\n",
      "Biggest record has 46 tokens\n",
      "\n",
      "There are 10816 descriptions in the join dataset\n"
     ]
    }
   ],
   "source": [
    "#Filter the Comeptences and TDs\n",
    "filteredDescriptionsRDD = (descriptionsRDD\n",
    "                           .map(lambda (s, v): (s, removeStopWords(v)))\n",
    "                           .map(lambda (s,v): (s, tf(v)))\n",
    "                           .cache())\n",
    "\n",
    "print 'There are %s descriptions in the first datasets' % (filteredDescriptionsRDD.count())\n",
    "#print 'Descriptions: %s' % filteredDescriptionsRDD.take(3)\n",
    "print \"Biggest record has %s tokens\\n\" % len(filteredDescriptionsRDD.takeOrdered(1, lambda (x,v): -len(v))[0][1])\n",
    "\n",
    "filteredTDRDD = (TDRDD\n",
    "                 .map(lambda (s, v): (s, removeStopWords(v)))\n",
    "                 .map(lambda (s,v): (s, tf(v)))\n",
    "                 .cache())\n",
    "\n",
    "print 'There are %s descriptions in the second datasets' % (filteredTDRDD.count())\n",
    "#print 'Descriptions: %s' % filteredTDRDD.take(3)\n",
    "print \"Biggest record has %s tokens\\n\" % len(filteredTDRDD.takeOrdered(1, lambda (x,v): -len(v))[0][1])\n",
    "\n",
    "crossSmall = (TDNoSplitRDD\n",
    "              .cartesian(descriptionsNoSplitRDD)\n",
    "              .cache())\n",
    "\n",
    "print 'There are %s descriptions in the join dataset' % crossSmall.count()\n",
    "#print crossSmall.take(2)\n"
   ]
  },
  {
   "cell_type": "code",
   "execution_count": 7,
   "metadata": {
    "collapsed": false
   },
   "outputs": [
    {
     "name": "stdout",
     "output_type": "stream",
     "text": [
      "There are 811 unique tokens in the small datasets.\n",
      "\n",
      "Tokens wiht the smallest IDF (differentiating words) [(u'systems', 2.6666666666666665), (u'design', 3.1515151515151514), (u'study', 4.16), (u'includes', 4.333333333333333), (u'engineering', 5.2), (u'system', 6.117647058823529), (u'specific', 6.933333333333334), (u'disciplines', 6.933333333333334), (u'related', 6.933333333333334), (u'methods', 7.428571428571429), (u'technologies', 7.428571428571429)]\n"
     ]
    },
    {
     "data": {
      "image/png": "[encoded data removed]",
      "text/plain": [
       "<matplotlib.figure.Figure at 0xb0ec83cc>"
      ]
     },
     "metadata": {},
     "output_type": "display_data"
    }
   ],
   "source": [
    "#Conputation of TFIDF dictionnary\n",
    "def idfs(corpus):\n",
    "    \"\"\" Compute IDF\n",
    "    Args:\n",
    "        corpus (RDD): input corpus\n",
    "    Returns:\n",
    "        RDD: a RDD of (token, IDF value)\n",
    "    \"\"\"\n",
    "    N = corpus.count()\n",
    "    uniqueTokens = corpus.map(lambda (s,v): tf(v).keys())\n",
    "    tokenCountPairTuple = uniqueTokens.flatMap(lambda s:s).map(lambda s: (s, 1)).reduceByKey(lambda a, b: a+b)\n",
    "    tokenSumPairTuple = tokenCountPairTuple.map(lambda (s,v): (s, float(N) / v))\n",
    "    return(tokenSumPairTuple)\n",
    "\n",
    "idfsSmall = idfs(filteredDescriptionsRDD.union(filteredTDRDD))\n",
    "idfsSmallWeights = idfsSmall.collectAsMap()\n",
    "uniqueTokenCount = idfsSmall.count()\n",
    "\n",
    "print 'There are %s unique tokens in the small datasets.\\n' % uniqueTokenCount\n",
    "smallIDFTokens = idfsSmall.takeOrdered(11, lambda s: s[1])\n",
    "print 'Tokens wiht the smallest IDF (differentiating words)', smallIDFTokens\n",
    "\n",
    "import matplotlib.pyplot as plt\n",
    "\n",
    "small_idf_values = idfsSmall.map(lambda s: s[1]).collect()\n",
    "fig = plt.figure(figsize=(8,3))\n",
    "plt.hist(small_idf_values, 50, log=True)\n",
    "pass"
   ]
  },
  {
   "cell_type": "code",
   "execution_count": 8,
   "metadata": {
    "collapsed": false
   },
   "outputs": [],
   "source": [
    "def tfidf(tokens, idfs):\n",
    "    \"\"\" Compute TF-IDF\n",
    "    Args:\n",
    "        tokens (list of str): input list of tokens from tokenize\n",
    "        idfs (dictionary): record to IDF value\n",
    "    Returns:\n",
    "        dictionary: a dictionary of records to TF-IDF values\n",
    "    \"\"\"\n",
    "    tfs = tf(tokens)\n",
    "    tfIdfDict = dict(tfs)\n",
    "    \n",
    "    for i in tfIdfDict: \n",
    "        if i in idfs: \n",
    "            tfIdfDict[i]*=idfs[i]\n",
    "    \n",
    "    return tfIdfDict\n",
    "\n",
    "\n",
    "#recSysEng = filteredDescriptionsRDD.filter(lambda x: x[0] == u'010: System Engineering PMT').collect()[0][1]\n",
    "idfsSmallWeights = idfsSmall.collectAsMap()\n",
    "#recSysEng_weights = tfidf(recSysEng, idfsSmallWeights)\n",
    "#print '\"System Engineering PMT\" has tokens and weights:\\n%s' % recSysEng_weights"
   ]
  },
  {
   "cell_type": "code",
   "execution_count": 9,
   "metadata": {
    "collapsed": false
   },
   "outputs": [
    {
     "name": "stdout",
     "output_type": "stream",
     "text": [
      "102 6.16441400297\n",
      "0.00272000014897\n",
      "0.0556262299591\n"
     ]
    }
   ],
   "source": [
    "#Computation of similarities between the competences strings\n",
    "\n",
    "\n",
    "import math\n",
    "\n",
    "def dotprod(a, b):\n",
    "    \"\"\" Compute dot product\n",
    "    Args:\n",
    "        a (dictionary): first dictionary of record to value\n",
    "        b (dictionary): second dictionary of record to value\n",
    "    Returns:\n",
    "        dotProd: result of the dot product with the two input dictionaries\n",
    "    \"\"\"\n",
    "    \n",
    "    dotProd=0\n",
    "    for i in a:\n",
    "        if i in b: dotProd += a[i]*b[i]\n",
    "        \n",
    "    return dotProd\n",
    "\n",
    "def norm(a):\n",
    "    \"\"\" Compute square root of the dot product\n",
    "    Args:\n",
    "        a (dictionary): a dictionary of record to value\n",
    "    Returns:\n",
    "        norm: a dictionary of tokens to its TF values\n",
    "    \"\"\"\n",
    "    Norm2=0\n",
    "    for i in a:\n",
    "        Norm2 += a[i] * a[i]\n",
    "    \n",
    "    Norm= math.sqrt(Norm2)\n",
    "    return Norm\n",
    "\n",
    "def cossim(a, b):\n",
    "    \"\"\" Compute cosine similarity\n",
    "    Args:\n",
    "        a (dictionary): first dictionary of record to value\n",
    "        b (dictionary): second dictionary of record to value\n",
    "    Returns:\n",
    "        cossim: dot product of two dictionaries divided by the norm of the first dictionary and\n",
    "                then by the norm of the second dictionary\n",
    "    \"\"\"\n",
    "    return dotprod(a,b)/(norm(a)*norm(b)+0.1)\n",
    "\n",
    "testVec1 = {'foo': 2, 'bar': 3, 'baz': 5 }\n",
    "testVec2 = {'foo': 1, 'bar': 0, 'baz': 20 }\n",
    "dp = dotprod(testVec1, testVec2)\n",
    "nm = norm(testVec1)\n",
    "print dp, nm\n",
    "\n",
    "def cosineSimilarity(string1, string2, idfsDictionary):\n",
    "    \"\"\" Compute cosine similarity between two strings\n",
    "    Args:\n",
    "        string1 (str): first string\n",
    "        string2 (str): second string\n",
    "        idfsDictionary (dictionary): a dictionary of IDF values\n",
    "    Returns:\n",
    "        cossim: cosine similarity value\n",
    "    \"\"\"\n",
    "    w1 = tfidf(tokenize(string1), idfsDictionary)\n",
    "    w2 = tfidf(tokenize(string2), idfsDictionary)\n",
    "    return cossim(w1, w2)\n",
    "\n",
    "cossimAdobe = cosineSimilarity(u'Demonstrated ability to define, implement and maintain engineering processes',\n",
    "                               u'Ability to consider impact of the Civil and Military Certification regulations and processes',\n",
    "                               idfsSmallWeights)\n",
    "\n",
    "print cossimAdobe\n",
    "\n",
    "cossimAdobe = cosineSimilarity(u'demonstrated ability engineering processes',\n",
    "                               u'ability to impact of the regulations and processes',\n",
    "                               idfsSmallWeights)\n",
    "\n",
    "print cossimAdobe"
   ]
  },
  {
   "cell_type": "code",
   "execution_count": 10,
   "metadata": {
    "collapsed": false
   },
   "outputs": [],
   "source": [
    "def computeSimilarityBroadcast(record):\n",
    "    \"\"\" Compute similarity on a combination record, using Broadcast variable\n",
    "    Args:\n",
    "        record: a pair, (google record, amazon record)\n",
    "    Returns:\n",
    "        pair: a pair, (google URL, amazon ID, cosine similarity value)\n",
    "    \"\"\"\n",
    "    competence1 = record[0]\n",
    "    competence2 = record[1]\n",
    "    competence1Name = competence1[0]\n",
    "    competence2Name = competence2[0]\n",
    "    competence1Value = competence1[1]\n",
    "    competence2Value = competence2[1]\n",
    "    \n",
    "    print competence1Name\n",
    "    print competence1Value\n",
    "    cs = cosineSimilarity(competence1Value, competence2Value, idfsSmallBroadcast.value)\n",
    "    return (competence1Name, competence2Name, cs)\n",
    "\n",
    "idfsSmallBroadcast = sc.broadcast(idfsSmallWeights)\n",
    "similaritiesBroadcast = (crossSmall\n",
    "                         .map(lambda s: computeSimilarityBroadcast(s))\n",
    "                         .cache())\n",
    "\n",
    "#print \"TAKE 1: \" , crossSmall.take(1)\n",
    "#print \"TAKE 1[0]\" , crossSmall.take(1)[0]\n",
    "\n",
    "#print crossSmall.take(1)[0][1]\n",
    "#print crossSmall.take(1)[0][1][0]\n",
    "#print 'similaritiesBroadcast (crossSmall)', computeSimilarityBroadcast(crossSmall.take(1)[0])\n",
    "#print similaritiesBroadcast.count()\n",
    "#print similaritiesBroadcast.take(5)\n",
    "\n",
    "\n",
    "def similarBroadcast(TDName, CName):\n",
    "    \"\"\" Return similarity value, computed using Broadcast variable\n",
    "    Args:\n",
    "        TDName: amazon ID\n",
    "        CName: google URL\n",
    "    Returns:\n",
    "        similar: cosine similarity value\n",
    "    \"\"\"\n",
    "    return (similaritiesBroadcast\n",
    "            .filter(lambda record: (record[0] == TDName and record[1] == CName))\n",
    "            .collect()[0][2])\n",
    "\n",
    "#similarityC1C2Broadcast = similarBroadcast(u'010: System Engineering PMT (Systems Engineering Processes, Methods and Tools)', u'010: System Engineering PMT')\n",
    "#print 'Requested similarity is %s.' % similarityC1C2Broadcast\n",
    "#similarityC1C2Broadcast = similarBroadcast(u'010: System Engineering PMT (Systems Engineering Processes, Methods and Tools)', u'010aa: Process Definition & Support')\n",
    "#print 'Requested similarity is %s.' % similarityC1C2Broadcast\n",
    "\n"
   ]
  },
  {
   "cell_type": "code",
   "execution_count": 11,
   "metadata": {
    "collapsed": false
   },
   "outputs": [
    {
     "name": "stdout",
     "output_type": "stream",
     "text": [
      "test string is: <pyspark.resultiterable.ResultIterable object at 0xb09d768c>\n",
      "sorted result is:  [(17, 'c'), (7, 'b'), (5, 'a')]\n",
      "\n",
      "top 3 are:  [(u'TD', u'010: System Engineering PMT (Systems Engineering Processes, Methods and Tools)', 0.0), (u'TD', u'012: System Model, Sim & Virtualization (System Modelling, Simulation & Virtualization)', 0.0), (u'TD', u'014: Configuration Management', 0.0)]\n",
      "\n"
     ]
    }
   ],
   "source": [
    "def sortIterable(listOfValues):\n",
    "    \"\"\" Return sorted list, decreasing order, second parameter\n",
    "    Args:\n",
    "        list of values\n",
    "    Returns:\n",
    "        top 3\n",
    "    \"\"\"\n",
    "    return (sorted(listOfValues, reverse=True)[:3])\n",
    "\n",
    "testStringRDD = (sc.parallelize([('a', 5), ('b', 7), ('c', 17), ('d', 1)])\n",
    "                 .map(lambda s: (1, (s[1], s[0])))\n",
    "                 .groupByKey())\n",
    "print 'test string is:', testStringRDD.take(1)[0][1]\n",
    "print 'sorted result is: ', sortIterable(testStringRDD.take(1)[0][1])\n",
    "\n",
    "\n",
    "print \n",
    "sortedSimilaritiesBroadcast = similaritiesBroadcast.takeOrdered(3, lambda (s): s[2])\n",
    "\n",
    "print \"top 3 are: \", sortedSimilaritiesBroadcast\n",
    "print\n",
    "\n",
    "\n",
    "\n",
    "    "
   ]
  },
  {
   "cell_type": "code",
   "execution_count": 14,
   "metadata": {
    "collapsed": false
   },
   "outputs": [
    {
     "name": "stdout",
     "output_type": "stream",
     "text": [
      "03: In-service Support Engineering; 03: In-service Support Engineering; 999;033: Structural Integrity & Health Mgt. (Structural Integrity & Health Management); 267;111: IT Service Management; 78;\n",
      "13: Guidance, Navigation & Control (GNC); 13: Guidance, Navigation & Control (GNC); 998;133: Navigation; 235;123: Flight Dynamics; 68;\n",
      "07: Electric, Electronic & Electromag. (Electric, Electronic & Electromagnetic); 07: Electric, Electronic & Electromag. (Electric, Electronic & Electromagnetic); 999;143: Mission & Avionics; 81;055: System Installation Design & Integ (System Installation Design & Integration); 51;\n",
      "030: Useability / Operability / RAMT; 030: Useability / Operability / RAMT; 999;074: Electr. Power Gen., Distn., Storage (Electrical Power Generation, Distribution, Storage); 46;020: Safety; 22;\n",
      "021: Environmental Qualification; 021: Environmental Qualification; 998;161: Rig & Test Facility Technology; 138;041: Metallic Materials; 59;\n",
      "022: Human Factors & Ergonomics; 022: Human Factors & Ergonomics; 999;176: Advanced Manufacturing Processes; 127;02: Safety, Envir., Airworth., Human Fac (Safety, Environment, Airworthiness, Human Factors); 45;\n",
      "172: Assembly & Joining Technologies; 172: Assembly & Joining Technologies; 999;17: MAIT & Measurement (Manufacturing, Assembly, Integrated Testing & Measurement); 245;056: Stress & Fatigue Analysis; 139;\n",
      "151: Space Propulsion Systems ; 151: Space Propulsion Systems ; 999;15: Propulsion & Pyrotechniques; 169;152: Uncon./Alt. Fuel Concepts & Techs (Unconventional / Alternative Fuel Concepts & Technologies); 164;\n",
      "142: Displays & Controls; 142: Displays & Controls; 999;14: Mission, Avionics & Op. Ground Syst.(Mission, Avionics & Operational Ground Systems); 45;120: Mass & Balance; 20;\n",
      "082: Quasi-optical & Sub-mm Wave Sensors & Instruments Technologies; 082: Quasi-optical & Sub-mm Wave Sensors & Instruments Technologies; 999;02: Safety, Envir., Airworth., Human Fac (Safety, Environment, Airworthiness, Human Factors); 29;123: Flight Dynamics; 16;\n",
      "09: Computing & Communication; 09: Computing & Communication; 999;154: Fuel systems; 161;090: Computing Science; 119;\n",
      "120: Mass & Balance; 120: Mass & Balance; 999;154: Fuel systems; 186;153: Power Plant Integration; 125;\n",
      "161: Rig & Test Facility Technology; 161: Rig & Test Facility Technology; 999;021: Environmental Qualification; 138;15: Propulsion & Pyrotechniques; 94;\n",
      "055: System Installation Design & Integ (System Installation Design & Integration); 055: System Installation Design & Integ (System Installation Design & Integration); 999;07: Electric, Electronic & Electromag. (Electric, Electronic & Electromagnetic); 51;022: Human Factors & Ergonomics; 43;\n",
      "171: Mechanical Manuf Techs. & Processes (Mechanical Manufacturing Technologies & Processes); 171: Mechanical Manuf Techs. & Processes (Mechanical Manufacturing Technologies & Processes); 999;15: Propulsion & Pyrotechniques; 84;042: Composite Materials; 28;\n",
      "131: Trajectography & Orbitography; 131: Trajectography & Orbitography; 999;134: Orbital Management; 55;013: Concept. Des Incl Pre-sizing & Arch (Conceptual Design Including Pre-sizing & Architecture); 34;\n",
      "133: Navigation; 133: Navigation; 999;140: Situational Awareness; 332;13: Guidance, Navigation & Control (GNC); 235;\n",
      "01: Systems Engineering Support; 01: Systems Engineering Support; 999;032: Technical Logistics; 61;10: Software; 39;\n",
      "091: Information Management; 091: Information Management; 999;113: Information Processing & Data Fus. (Information Processing & Data Fusion); 21;112: Data Handling & Management; 20;\n",
      "052: Structure Concepts & Des Principles(Structure Concepts & Design principles); 052: Structure Concepts & Des Principles(Structure Concepts & Design principles); 998;053: Structural Design; 280;05: Mechanics / Structure; 122;\n",
      "141: Monitoring & Recording; 141: Monitoring & Recording; 999;033: Structural Integrity & Health Mgt. (Structural Integrity & Health Management); 61;122: Store Release & Jettison & Air-drop (Store Release & Jettison & Air-dropping); 35;\n",
      "063: Thermal & Fluid Systems; 063: Thermal & Fluid Systems; 999;06: Fluidmechanics, Thermal; 65;150: Air Breathing Propulsion Systems ; 54;\n",
      "02: Safety, Envir., Airworth., Human Fac (Safety, Environment, Airworthiness, Human Factors); 02: Safety, Envir., Airworth., Human Fac (Safety, Environment, Airworthiness, Human Factors); 999;022: Human Factors & Ergonomics; 45;01: Systems Engineering Support; 31;\n",
      "080: Optics Development; 080: Optics Development; 999;178: Matl/Comp Testing Concepts & Techs (Material / Component Testing Concepts & Technologies); 105;173: Elect, Opt Manuf. Techs & Processes (Electrical / Electronic / Optical Manufacturing Technologies & Processes); 41;\n",
      "090: Computing Science; 090: Computing Science; 999;09: Computing & Communication; 119;16: Enabling Sys Tech (Rigs, Jigs, Sims) (Enabling Systems Technologies (Rigs, Jigs, Simulators)); 41;\n",
      "083: Optronics Development; 083: Optronics Development; 998;08: Optics, optronics; 263;052: Structure Concepts & Des Principles(Structure Concepts & Design principles); 112;\n",
      "155: Pyrotechnics; 155: Pyrotechnics; 999;081: Light Sources / Lasers; 37;076: Electromagnetic & Signature Eng. (Electromagnetic & Signature Engineering); 24;\n",
      "05: Mechanics / Structure; 05: Mechanics / Structure; 998;052: Structure Concepts & Des Principles(Structure Concepts & Design principles); 122;178: Matl/Comp Testing Concepts & Techs (Material / Component Testing Concepts & Technologies); 51;\n",
      "092: Information Assurance & Security; 092: Information Assurance & Security; 999;070: Digital Equipment Engineering; 19;160: System Simulator Technology; 18;\n",
      "013: Concept. Des Incl Pre-sizing & Arch (Conceptual Design Including Pre-sizing & Architecture); 013: Concept. Des Incl Pre-sizing & Arch (Conceptual Design Including Pre-sizing & Architecture); 999;014: Configuration Management; 37;175: Rapid Prototyping; 34;\n",
      "177: Industrialization Concepts & Techs (Industrialization Concepts & Techniques); 177: Industrialization Concepts & Techs (Industrialization Concepts & Techniques); 999;17: MAIT & Measurement (Manufacturing, Assembly, Integrated Testing & Measurement); 255;153: Power Plant Integration; 25;\n",
      "110: IT Engineering; 110: IT Engineering; 999;111: IT Service Management; 201;11: Information Technology; 121;\n",
      "053: Structural Design; 053: Structural Design; 998;052: Structure Concepts & Des Principles(Structure Concepts & Design principles); 280;051: Structure Methodologies & Processes; 178;\n",
      "06: Fluidmechanics, Thermal; 06: Fluidmechanics, Thermal; 999;063: Thermal & Fluid Systems; 65;12: Aerodynamics, Flight & Space Physics; 54;\n",
      "121: Aerodynamics ; 121: Aerodynamics ; 999;051: Structure Methodologies & Processes; 72;060: Fluid Mechanics; 66;\n",
      "041: Metallic Materials; 041: Metallic Materials; 999;021: Environmental Qualification; 59;052: Structure Concepts & Des Principles(Structure Concepts & Design principles); 27;\n",
      "174: Low Cost Manufacturing Technologies; 174: Low Cost Manufacturing Technologies; 999;176: Advanced Manufacturing Processes; 49;083: Optronics Development; 36;\n",
      "16: Enabling Sys Tech (Rigs, Jigs, Sims) (Enabling Systems Technologies (Rigs, Jigs, Simulators)); 16: Enabling Sys Tech (Rigs, Jigs, Sims) (Enabling Systems Technologies (Rigs, Jigs, Simulators)); 999;178: Matl/Comp Testing Concepts & Techs (Material / Component Testing Concepts & Technologies); 54;021: Environmental Qualification; 53;\n",
      "061: Acoustics; 061: Acoustics; 999;06: Fluidmechanics, Thermal; 32;154: Fuel systems; 28;\n",
      "15: Propulsion & Pyrotechniques; 15: Propulsion & Pyrotechniques; 998;151: Space Propulsion Systems ; 169;150: Air Breathing Propulsion Systems ; 156;\n",
      "130: Automatic Control & Estimation ; 130: Automatic Control & Estimation ; 999;074: Electr. Power Gen., Distn., Storage (Electrical Power Generation, Distribution, Storage); 65;13: Guidance, Navigation & Control (GNC); 16;\n",
      "04: Materials; 04: Materials; 999;052: Structure Concepts & Des Principles(Structure Concepts & Design principles); 47;021: Environmental Qualification; 42;\n",
      "179: Measurement Techniques; 179: Measurement Techniques; 999;17: MAIT & Measurement (Manufacturing, Assembly, Integrated Testing & Measurement); 44;178: Matl/Comp Testing Concepts & Techs (Material / Component Testing Concepts & Technologies); 22;\n",
      "012: System Model, Sim & Virtualization (System Modelling, Simulation & Virtualization); 012: System Model, Sim & Virtualization (System Modelling, Simulation & Virtualization); 999;121: Aerodynamics ; 36;013: Concept. Des Incl Pre-sizing & Arch (Conceptual Design Including Pre-sizing & Architecture); 33;\n",
      "020: Safety; 020: Safety; 999;056: Stress & Fatigue Analysis; 44;153: Power Plant Integration; 24;\n",
      "075: Electrical Systems; 075: Electrical Systems; 999;151: Space Propulsion Systems ; 147;132: Flight Control; 37;\n",
      "060: Fluid Mechanics; 060: Fluid Mechanics; 999;121: Aerodynamics ; 66;063: Thermal & Fluid Systems; 35;\n",
      "134: Orbital Management; 134: Orbital Management; 999;131: Trajectography & Orbitography; 55;123: Flight Dynamics; 34;\n",
      "058: High Power Rotating Mechanic Syst. (High Power Rotating Mechanic Systems); 058: High Power Rotating Mechanic Syst. (High Power Rotating Mechanic Systems); 999;056: Stress & Fatigue Analysis; 65;045: Non-Destructive Testing (NDT); 53;\n",
      "044: Surface Treatment & Protection; 044: Surface Treatment & Protection; 999;045: Non-Destructive Testing (NDT); 16;041: Metallic Materials; 8;\n",
      "093: Networking & Communications; 093: Networking & Communications; 999;112: Data Handling & Management; 34;101: Software Quality; 28;\n",
      "11: Information Technology; 11: Information Technology; 999;110: IT Engineering; 121;111: IT Service Management; 76;\n",
      "070: Digital Equipment Engineering; 070: Digital Equipment Engineering; 999;153: Power Plant Integration; 24;092: Information Assurance & Security; 19;\n",
      "040: Material Environmental Standards; 040: Material Environmental Standards; 999;045: Non-Destructive Testing (NDT); 48;022: Human Factors & Ergonomics; 44;\n",
      "175: Rapid Prototyping; 175: Rapid Prototyping; 999;013: Concept. Des Incl Pre-sizing & Arch (Conceptual Design Including Pre-sizing & Architecture); 34;053: Structural Design; 19;\n",
      "072: Antenna Devt (inc Phased Array) (Antenna Development  (including Phased Array Antennas)); 072: Antenna Devt (inc Phased Array) (Antenna Development  (including Phased Array Antennas)); 999;071: RF & Microwave Development; 78;023: Airworthiness & Certification; 43;\n",
      "111: IT Service Management; 111: IT Service Management; 999;110: IT Engineering; 201;03: In-service Support Engineering; 78;\n",
      "074: Electr. Power Gen., Distn., Storage (Electrical Power Generation, Distribution, Storage); 074: Electr. Power Gen., Distn., Storage (Electrical Power Generation, Distribution, Storage); 999;154: Fuel systems; 112;073: Power Electronics & Control Devt.(Power Electronics & Control Development); 84;\n",
      "056: Stress & Fatigue Analysis; 056: Stress & Fatigue Analysis; 999;172: Assembly & Joining Technologies; 139;153: Power Plant Integration; 120;\n",
      "152: Uncon./Alt. Fuel Concepts & Techs (Unconventional / Alternative Fuel Concepts & Technologies); 152: Uncon./Alt. Fuel Concepts & Techs (Unconventional / Alternative Fuel Concepts & Technologies); 999;151: Space Propulsion Systems ; 164;15: Propulsion & Pyrotechniques; 85;\n",
      "123: Flight Dynamics; 123: Flight Dynamics; 999;13: Guidance, Navigation & Control (GNC); 68;134: Orbital Management; 34;\n",
      "160: System Simulator Technology; 160: System Simulator Technology; 999;062: Thermal; 104;161: Rig & Test Facility Technology; 72;\n",
      "122: Store Release & Jettison & Air-drop (Store Release & Jettison & Air-dropping); 122: Store Release & Jettison & Air-drop (Store Release & Jettison & Air-dropping); 999;051: Structure Methodologies & Processes; 75;178: Matl/Comp Testing Concepts & Techs (Material / Component Testing Concepts & Technologies); 51;\n",
      "TD; TD; 999;17: MAIT & Measurement (Manufacturing, Assembly, Integrated Testing & Measurement); 0;179: Measurement Techniques; 0;\n",
      "057: Survivability & Vulnerability Ass. (Survivability & Vulnerability Assessment); 057: Survivability & Vulnerability Ass. (Survivability & Vulnerability Assessment); 999;045: Non-Destructive Testing (NDT); 27;033: Structural Integrity & Health Mgt. (Structural Integrity & Health Management); 21;\n",
      "113: Information Processing & Data Fus. (Information Processing & Data Fusion); 113: Information Processing & Data Fus. (Information Processing & Data Fusion); 999;140: Situational Awareness; 69;133: Navigation; 23;\n",
      "100: Software PMT; 100: Software PMT; 999;113: Information Processing & Data Fus. (Information Processing & Data Fusion); 7;091: Information Management; 7;\n",
      "073: Power Electronics & Control Devt.(Power Electronics & Control Development); 073: Power Electronics & Control Devt.(Power Electronics & Control Development); 999;178: Matl/Comp Testing Concepts & Techs (Material / Component Testing Concepts & Technologies); 107;074: Electr. Power Gen., Distn., Storage (Electrical Power Generation, Distribution, Storage); 84;\n",
      "076: Electromagnetic & Signature Eng. (Electromagnetic & Signature Engineering); 076: Electromagnetic & Signature Eng. (Electromagnetic & Signature Engineering); 999;021: Environmental Qualification; 29;155: Pyrotechnics; 24;\n",
      "08: Optics, optronics; 08: Optics, optronics; 999;083: Optronics Development; 263;07: Electric, Electronic & Electromag. (Electric, Electronic & Electromagnetic); 34;\n",
      "176: Advanced Manufacturing Processes; 176: Advanced Manufacturing Processes; 999;022: Human Factors & Ergonomics; 127;17: MAIT & Measurement (Manufacturing, Assembly, Integrated Testing & Measurement); 62;\n",
      "14: Mission, Avionics & Op. Ground Syst.(Mission, Avionics & Operational Ground Systems); 14: Mission, Avionics & Op. Ground Syst.(Mission, Avionics & Operational Ground Systems); 998;144: Operational Ground Systems; 263;143: Mission & Avionics; 78;\n",
      "033: Structural Integrity & Health Mgt. (Structural Integrity & Health Management); 033: Structural Integrity & Health Mgt. (Structural Integrity & Health Management); 999;03: In-service Support Engineering; 267;111: IT Service Management; 71;\n",
      "031: Product Data for Operation & Maint. (Product Data for Operation & Maintenance); 031: Product Data for Operation & Maint. (Product Data for Operation & Maintenance); 999;110: IT Engineering; 28;070: Digital Equipment Engineering; 17;\n",
      "132: Flight Control; 132: Flight Control; 999;075: Electrical Systems; 37;124: Space Physics & Technologies; 35;\n",
      "045: Non-Destructive Testing (NDT); 045: Non-Destructive Testing (NDT); 999;058: High Power Rotating Mechanic Syst. (High Power Rotating Mechanic Systems); 53;040: Material Environmental Standards; 48;\n",
      "10: Software; 10: Software; 999;15: Propulsion & Pyrotechniques; 64;111: IT Service Management; 57;\n",
      "170: Design For MAIT; 170: Design For MAIT; 999;154: Fuel systems; 9;057: Survivability & Vulnerability Ass. (Survivability & Vulnerability Assessment); 5;\n",
      "010: System Engineering PMT (Systems Engineering Processes, Methods and Tools); 010: System Engineering PMT (Systems Engineering Processes, Methods and Tools); 998;101: Software Quality; 76;033: Structural Integrity & Health Mgt. (Structural Integrity & Health Management); 46;\n",
      "050: Mech,Mechatronic,Hydromech Syst (Mechanical / Mechatronic / Hydromechanical Systems) ; 050: Mech,Mechatronic,Hydromech Syst (Mechanical / Mechatronic / Hydromechanical Systems) ; 999;054: Loads & Structural Dynamics; 74;05: Mechanics / Structure; 36;\n",
      "043: Other Materials; 043: Other Materials; 999;042: Composite Materials; 199;056: Stress & Fatigue Analysis; 40;\n",
      "054: Loads & Structural Dynamics; 054: Loads & Structural Dynamics; 999;051: Structure Methodologies & Processes; 293;056: Stress & Fatigue Analysis; 106;\n",
      "062: Thermal; 062: Thermal; 999;160: System Simulator Technology; 104;06: Fluidmechanics, Thermal; 44;\n",
      "071: RF & Microwave Development; 071: RF & Microwave Development; 999;072: Antenna Devt (inc Phased Array) (Antenna Development  (including Phased Array Antennas)); 78;06: Fluidmechanics, Thermal; 31;\n",
      "153: Power Plant Integration; 153: Power Plant Integration; 998;154: Fuel systems; 239;120: Mass & Balance; 125;\n",
      "112: Data Handling & Management; 112: Data Handling & Management; 999;093: Networking & Communications; 34;11: Information Technology; 34;\n",
      "173: Elect, Opt Manuf. Techs & Processes (Electrical / Electronic / Optical Manufacturing Technologies & Processes); 173: Elect, Opt Manuf. Techs & Processes (Electrical / Electronic / Optical Manufacturing Technologies & Processes); 999;178: Matl/Comp Testing Concepts & Techs (Material / Component Testing Concepts & Technologies); 124;073: Power Electronics & Control Devt.(Power Electronics & Control Development); 77;\n",
      "023: Airworthiness & Certification; 023: Airworthiness & Certification; 999;053: Structural Design; 85;160: System Simulator Technology; 59;\n",
      "178: Matl/Comp Testing Concepts & Techs (Material / Component Testing Concepts & Technologies); 178: Matl/Comp Testing Concepts & Techs (Material / Component Testing Concepts & Technologies); 996;173: Elect, Opt Manuf. Techs & Processes (Electrical / Electronic / Optical Manufacturing Technologies & Processes); 124;073: Power Electronics & Control Devt.(Power Electronics & Control Development); 107;\n",
      "014: Configuration Management; 014: Configuration Management; 999;023: Airworthiness & Certification; 46;013: Concept. Des Incl Pre-sizing & Arch (Conceptual Design Including Pre-sizing & Architecture); 37;\n",
      "150: Air Breathing Propulsion Systems ; 150: Air Breathing Propulsion Systems ; 999;15: Propulsion & Pyrotechniques; 156;151: Space Propulsion Systems ; 103;\n",
      "081: Light Sources / Lasers; 081: Light Sources / Lasers; 999;173: Elect, Opt Manuf. Techs & Processes (Electrical / Electronic / Optical Manufacturing Technologies & Processes); 53;155: Pyrotechnics; 37;\n",
      "011: Operational Analysis; 011: Operational Analysis; 999;032: Technical Logistics; 66;053: Structural Design; 43;\n",
      "101: Software Quality; 101: Software Quality; 999;010: System Engineering PMT (Systems Engineering Processes, Methods and Tools); 76;10: Software; 29;\n",
      "144: Operational Ground Systems; 144: Operational Ground Systems; 999;14: Mission, Avionics & Op. Ground Syst.(Mission, Avionics & Operational Ground Systems); 263;161: Rig & Test Facility Technology; 68;\n",
      "051: Structure Methodologies & Processes; 051: Structure Methodologies & Processes; 999;054: Loads & Structural Dynamics; 293;053: Structural Design; 178;\n",
      "140: Situational Awareness; 140: Situational Awareness; 999;133: Navigation; 332;113: Information Processing & Data Fus. (Information Processing & Data Fusion); 69;\n",
      "17: MAIT & Measurement (Manufacturing, Assembly, Integrated Testing & Measurement); 17: MAIT & Measurement (Manufacturing, Assembly, Integrated Testing & Measurement); 998;177: Industrialization Concepts & Techs (Industrialization Concepts & Techniques); 255;172: Assembly & Joining Technologies; 245;\n",
      "124: Space Physics & Technologies; 124: Space Physics & Technologies; 999;12: Aerodynamics, Flight & Space Physics; 68;13: Guidance, Navigation & Control (GNC); 35;\n",
      "032: Technical Logistics; 032: Technical Logistics; 999;011: Operational Analysis; 66;01: Systems Engineering Support; 61;\n",
      "12: Aerodynamics, Flight & Space Physics; 12: Aerodynamics, Flight & Space Physics; 999;124: Space Physics & Technologies; 68;06: Fluidmechanics, Thermal; 54;\n",
      "143: Mission & Avionics; 143: Mission & Avionics; 999;07: Electric, Electronic & Electromag. (Electric, Electronic & Electromagnetic); 81;14: Mission, Avionics & Op. Ground Syst.(Mission, Avionics & Operational Ground Systems); 78;\n",
      "154: Fuel systems; 154: Fuel systems; 997;153: Power Plant Integration; 239;120: Mass & Balance; 186;\n",
      "042: Composite Materials; 042: Composite Materials; 999;043: Other Materials; 199;058: High Power Rotating Mechanic Syst. (High Power Rotating Mechanic Systems); 42;\n"
     ]
    }
   ],
   "source": [
    "mySimilaritiesBroadcast = (similaritiesBroadcast\n",
    "                           .map(lambda s: (s[0], (s[2], s[1])))\n",
    "                           .groupByKey()\n",
    "                          .map(lambda (s, v): (s, sortIterable(v))))\n",
    "\n",
    "\n",
    "outputPath = os.path.join('Comp', outputFileName)\n",
    "resultFilename = os.path.join(baseDir, outputPath)\n",
    "f = open(resultFilename, \"w\")\n",
    "\n",
    "myString = \"\"\n",
    "for i in mySimilaritiesBroadcast.collect():\n",
    "    myString=myString+i[0]+'; '\n",
    "    for j in range (0,3):\n",
    "        myString = myString+i[1][j][1]+'; '\n",
    "        myString = myString+repr(int(1000*i[1][j][0]))+';'\n",
    "    f.write(myString)\n",
    "    #print myString\n",
    "    myString = \"\"\n",
    "\n",
    "f.close()"
   ]
  },
  {
   "cell_type": "code",
   "execution_count": null,
   "metadata": {
    "collapsed": true
   },
   "outputs": [],
   "source": []
  }
 ],
 "metadata": {
  "anaconda-cloud": {},
  "kernelspec": {
   "display_name": "Python [conda root]",
   "language": "python",
   "name": "conda-root-py"
  },
  "language_info": {
   "codemirror_mode": {
    "name": "ipython",
    "version": 3
   },
   "file_extension": ".py",
   "mimetype": "text/x-python",
   "name": "python",
   "nbconvert_exporter": "python",
   "pygments_lexer": "ipython3",
   "version": "3.5.2"
  }
 },
 "nbformat": 4,
 "nbformat_minor": 0
}
